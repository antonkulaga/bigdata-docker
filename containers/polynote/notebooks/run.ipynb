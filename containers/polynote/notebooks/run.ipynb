{
  "metadata" : {
    "config" : {
      "dependencies" : {
        "scala" : [
          "com.github.antonkulaga:spark-extensions:0.2.1",
          "com.lihaoyi:ammonite-ops_2.12:2.4.0",
          "com.github.pathikrit:better-files_2.12:3.9.1"
        ]
      },
      "exclusions" : [
      ],
      "repositories" : [
        {
          "maven" : {
            "base" : "http://central.maven.org/maven2/"
          }
        },
        {
          "maven" : {
            "base" : "http://oss.sonatype.org/content/repositories/snapshots"
          }
        },
        {
          "maven" : {
            "base" : "https://jitpack.io"
          }
        }
      ],
      "sparkConfig" : {
        "master" : "http://spark:7070[12]"
      },
      "env" : {
        
      }
    },
    "language_info" : {
      "name" : "scala"
    }
  },
  "nbformat" : 4,
  "nbformat_minor" : 0,
  "cells" : [
    {
      "cell_type" : "markdown",
      "execution_count" : 0,
      "metadata" : {
        "language" : "text"
      },
      "language" : "text",
      "source" : [
        "# run\n",
        "\n",
        "This is a text cell. Start editing!"
      ],
      "outputs" : [
      ]
    },
    {
      "cell_type" : "code",
      "execution_count" : 1,
      "metadata" : {
        "cell.metadata.exec_info" : {
          "startTs" : 1631029790397,
          "endTs" : 1631029790695
        },
        "language" : "scala"
      },
      "language" : "scala",
      "source" : [
        "println(\"HELLO POLYNOTE RUN!!!\")"
      ],
      "outputs" : [
        {
          "name" : "stdout",
          "text" : [
            "HELLO POLYNOTE RUN!\n"
          ],
          "output_type" : "stream"
        }
      ]
    },
    {
      "cell_type" : "code",
      "execution_count" : 2,
      "metadata" : {
        "cell.metadata.exec_info" : {
          "startTs" : 1631029807708,
          "endTs" : 1631029807993
        },
        "language" : "scala"
      },
      "language" : "scala",
      "source" : [
        "import java.util.{Calendar, Date}\n",
        "println(Calendar.getInstance().getTime())"
      ],
      "outputs" : [
        {
          "name" : "stdout",
          "text" : [
            "Tue Sep 07 18:50:07 EEST 2021\n"
          ],
          "output_type" : "stream"
        }
      ]
    }
  ]
}